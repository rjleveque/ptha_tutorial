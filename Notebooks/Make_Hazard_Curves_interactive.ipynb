{
 "cells": [
  {
   "cell_type": "markdown",
   "metadata": {},
   "source": [
    "# Make Hazard Curves and Maps\n",
    "\n",
    "This notebook illustrates how to make hazard curves and hazard maps by combining results from several events.\n",
    "\n",
    "Updated to illustrate clicking on a map with a callback to plot hazard curve.\n",
    "\n",
    "Also illustrates `interact_manual`.\n",
    "\n",
    "\n",
    "### First set up some things needed in notebook...."
   ]
  },
  {
   "cell_type": "code",
   "execution_count": null,
   "metadata": {
    "collapsed": false
   },
   "outputs": [],
   "source": [
    "%matplotlib notebook"
   ]
  },
  {
   "cell_type": "code",
   "execution_count": null,
   "metadata": {
    "hide_input": false,
    "run_control": {
     "marked": false
    }
   },
   "outputs": [],
   "source": [
    "from pylab import *\n",
    "from __future__ import print_function\n",
    "import sys, os\n",
    "from ipywidgets import interact,interact_manual, Image\n",
    "\n",
    "from ptha_paths import data_dir, events_dir"
   ]
  },
  {
   "cell_type": "markdown",
   "metadata": {},
   "source": [
    "### Read in the topography data and define a function to make a contour plot:"
   ]
  },
  {
   "cell_type": "code",
   "execution_count": null,
   "metadata": {
    "collapsed": false
   },
   "outputs": [],
   "source": [
    "# Read in topography data:\n",
    "\n",
    "fixed_grid_file = os.path.join(data_dir, 'MapsTopo', 'fixedgrid_xyB_small.npy')\n",
    "d=load(fixed_grid_file)\n",
    "x=d[:,0]\n",
    "y=d[:,1]\n",
    "B=d[:,2]\n",
    "topo = reshape(B, (250,250), order='F')\n",
    "X = reshape(x, (250,250), order='F')\n",
    "Y = reshape(y, (250,250), order='F')\n",
    "\n",
    "def plot_topo():\n",
    "    fig = figure(figsize=(6,6))\n",
    "    ax = axes()\n",
    "    topo_clines = arange(0,20,2)\n",
    "    contour(X,Y,topo,topo_clines,colors='k')\n",
    "    CClatitude = 41.75  # to rescale longitude\n",
    "    ax.set_aspect(1. / cos(pi*CClatitude/180.)) \n",
    "    ax.ticklabel_format(format='plain',useOffset=False)\n",
    "    return fig\n"
   ]
  },
  {
   "cell_type": "markdown",
   "metadata": {},
   "source": [
    "### Read in image of Crescent City as background for plots"
   ]
  },
  {
   "cell_type": "code",
   "execution_count": null,
   "metadata": {
    "collapsed": false
   },
   "outputs": [],
   "source": [
    "CCmap = imread('%s/MapsTopo/CCimage.png' % data_dir)\n",
    "extent = (235.79781, 235.82087, 41.739671,41.762726)   #small region\n",
    "\n",
    "def plot_CCmap():\n",
    "    fig = figure(figsize=(6,6))\n",
    "    ax = axes()\n",
    "    imshow(CCmap,extent=extent)\n",
    "    CClatitude = 41.75  # to rescale longitude\n",
    "    ax.set_aspect(1. / cos(pi*CClatitude/180.)) \n",
    "    ax.ticklabel_format(format='plain',useOffset=False)\n",
    "    axis(extent)\n",
    "    return fig"
   ]
  },
  {
   "cell_type": "markdown",
   "metadata": {},
   "source": [
    "### Set the exceedance values\n",
    "\n",
    "This should be a list or array of values $\\zeta$ (`zeta`) representing depth of flooding on shore, or elevation above sea level offshore (in meters).  The hazard curves will be computed by determining the annual probability that the maximum $\\zeta$ observed at each spatial point is above $\\zeta_k$, for each value $\\zeta_k$ in this list."
   ]
  },
  {
   "cell_type": "code",
   "execution_count": null,
   "metadata": {},
   "outputs": [],
   "source": [
    "# these levels were used in original study:\n",
    "#zeta = hstack((arange(0,2.,.1), arange(2.0,12.5,.5))) \n",
    "\n",
    "# you get nicer looking curves by using a denser set of exceedance values:\n",
    "zeta = linspace(0,12,121)\n",
    "nzeta = len(zeta)\n",
    "print('%i exceedance values, \\nzeta =  %s' % (nzeta,zeta))"
   ]
  },
  {
   "cell_type": "markdown",
   "metadata": {},
   "source": [
    "### Set the desired annual probability for each event\n",
    "\n",
    "Note that we are only using 14 events for this workshop.  The probabilities have been adjusted accordingly.\n",
    "\n",
    "`event_prob` is a Python dictionary. It is initialized to an empty dictionary and then we set `event_prob[key] = value` where the keys are the names of the hypothetical events and the associated value is the annual probability."
   ]
  },
  {
   "cell_type": "code",
   "execution_count": null,
   "metadata": {},
   "outputs": [],
   "source": [
    "all_events = ['AASZa', 'AASZb', 'AASZc', 'AASZd', 'CSZa', 'CSZb', 'CSZc', 'CSZd', 'CSZe', \\\n",
    "              'CSZf', 'KmSZa', 'KrSZa', 'SChSZa', 'TOHa']\n",
    "\n",
    "event_prob = {}\n",
    "event_prob['AASZa'] = 1./394.\n",
    "event_prob['AASZb'] = 1./750.\n",
    "event_prob['AASZc'] = 1./563.\n",
    "event_prob['AASZd'] = 1./324.\n",
    "event_prob['CSZa'] = 1./250. * .0125\n",
    "event_prob['CSZb'] = 1./250. * .0125\n",
    "event_prob['CSZc'] = 1./250. * .0750\n",
    "event_prob['CSZd'] = 1./250. * .5000\n",
    "event_prob['CSZe'] = 1./250. * .1750\n",
    "event_prob['CSZf'] = 1./250. * .2250\n",
    "event_prob['KmSZa'] = 1./50.\n",
    "event_prob['KrSZa'] = 1./167.\n",
    "event_prob['SChSZa'] = 1./300.\n",
    "event_prob['TOHa'] = 1./103.\n",
    "\n",
    "print(\"Annual probability of each event is set to:\")\n",
    "print(event_prob)"
   ]
  },
  {
   "cell_type": "markdown",
   "metadata": {},
   "source": [
    "### Define a function to combine two events"
   ]
  },
  {
   "cell_type": "code",
   "execution_count": null,
   "metadata": {
    "collapsed": false
   },
   "outputs": [],
   "source": [
    "def combine_prob(p1,p2):\n",
    "    \"\"\"Returns the probability that event 1 or 2 happens\"\"\"\n",
    "    return 1. - (1-p1)*(1-p2)"
   ]
  },
  {
   "cell_type": "markdown",
   "metadata": {},
   "source": [
    "### Specify the set of events to include in computing hazard curves:"
   ]
  },
  {
   "cell_type": "code",
   "execution_count": null,
   "metadata": {
    "collapsed": false
   },
   "outputs": [],
   "source": [
    "events = all_events\n",
    "\n",
    "# Instead, to use a subset of the events, specify a list such as:\n",
    "#events = ['AASZa', 'AASZb', 'AASZc']"
   ]
  },
  {
   "cell_type": "markdown",
   "metadata": {},
   "source": [
    "### Compute the combined probability of exceeding each exceedance value:\n",
    "\n",
    "`exceed_prob` is computed as an array of shape "
   ]
  },
  {
   "cell_type": "code",
   "execution_count": null,
   "metadata": {},
   "outputs": [],
   "source": [
    "nx, ny = X.shape  # note that X is a 2d array of longitude values at each point\n",
    "exceed_prob = zeros((nx,ny,nzeta))  # initialize to zero\n",
    "\n",
    "# loop over all events and update exceed_prob at each grid point by combining\n",
    "# current value with the probability Pk of this event:\n",
    "\n",
    "for event in events:\n",
    "    event_dir = os.path.join(events_dir, event)\n",
    "    hmax_file = os.path.join(event_dir, 'h_eta_small.npy')\n",
    "    hmax = load(hmax_file)\n",
    "    Hmax = hmax.reshape((nx,ny),order='F')\n",
    "    for k in range(nzeta):\n",
    "        Pk = exceed_prob[:,:,k]  # probabilities at all points for one exceedance value zeta_k\n",
    "        exceed_prob[:,:,k] = where(Hmax > zeta[k], combine_prob(event_prob[event],Pk), Pk)\n",
    "        \n",
    "print(\"Computed exceedance probabilities.  \\nMaximum over all grid points is %g\" % exceed_prob.max())"
   ]
  },
  {
   "cell_type": "markdown",
   "metadata": {},
   "source": [
    "### Plot hazard curves\n",
    "\n",
    "The array `exceed_prob[i,j,:]` (i.e. fixing i,j and letting the last index k vary from 0 to `nzeta - 1`) gives the probability of exceedance at the `(i,j)` grid point as we vary the exceedance value `zeta[k]`.  Plotting this gives exactly the hazard curve at the `(i,j)` point.\n",
    "\n",
    "The function `plot_hcurve` defined below plots this for a given `(longitude, latitude)` by first figuring out the index `(i,j)` for the nearest point on the grid covering Crescent City."
   ]
  },
  {
   "cell_type": "code",
   "execution_count": null,
   "metadata": {
    "collapsed": false
   },
   "outputs": [],
   "source": [
    "dx = X[1,0] - X[0,0]\n",
    "dy = Y[0,1] - Y[0,0]\n",
    "nx, ny = X.shape\n",
    "xmin = X.min(); xmax = X.max()\n",
    "ymin = Y.min(); ymax = Y.max()\n",
    "\n",
    "def plot_hcurve(longitude, latitude):\n",
    "    i = int(round((longitude - X[0,0]) / dx))\n",
    "    j = int(round((latitude - Y[0,0]) / dy))\n",
    "    if (i<0) or (i>=nx) or (j<0) or (j>=ny):\n",
    "        print(\"out of domain\")\n",
    "        return \n",
    "    fig = figure(figsize=(10,5))\n",
    "    subplot(1,2,1)\n",
    "    p = maximum(exceed_prob[i,j,:], 1e-10)\n",
    "    semilogy(zeta, p, 'b')\n",
    "    ylim(1e-5,1)\n",
    "    xlabel('zeta in meters')\n",
    "    ylabel('annual probability')\n",
    "    title('Hazard Curve')\n",
    "    \n",
    "    # Also plot the CC image with a red dot showing the location:\n",
    "    ax = subplot(1,2,2)\n",
    "    imshow(CCmap,extent=extent)\n",
    "    CClatitude = 41.75  # to rescale longitude\n",
    "    ax.set_aspect(1. / cos(pi*CClatitude/180.)) \n",
    "    ax.ticklabel_format(format='plain',useOffset=False)\n",
    "    xticks(rotation=20)\n",
    "    plot([longitude], [latitude], 'ro')\n",
    "    xlim(xmin,xmax)\n",
    "    ylim(ymin,ymax)\n",
    "    title('Location')\n",
    "    #return fig\n"
   ]
  },
  {
   "cell_type": "markdown",
   "metadata": {},
   "source": [
    "### Plot the hazard curve for one location:"
   ]
  },
  {
   "cell_type": "code",
   "execution_count": null,
   "metadata": {},
   "outputs": [],
   "source": [
    "fig = plot_hcurve(235.805, 41.75)"
   ]
  },
  {
   "cell_type": "markdown",
   "metadata": {},
   "source": [
    "### Version that allows clicking on a point"
   ]
  },
  {
   "cell_type": "code",
   "execution_count": null,
   "metadata": {},
   "outputs": [],
   "source": [
    "dx = X[1,0] - X[0,0]\n",
    "dy = Y[0,1] - Y[0,0]\n",
    "nx, ny = X.shape\n",
    "xmin = X.min(); xmax = X.max()\n",
    "ymin = Y.min(); ymax = Y.max()\n",
    "\n",
    "xmean = X.mean()\n",
    "ymean = Y.mean()\n",
    "\n",
    "def p_haz_curve(longitude,latitude):\n",
    "    i = int(round((longitude - X[0,0]) / dx))\n",
    "    j = int(round((latitude - Y[0,0]) / dy))\n",
    "    if (i<0) or (i>=nx) or (j<0) or (j>=ny):\n",
    "        print(\"out of domain\")\n",
    "    p = maximum(exceed_prob[i,j,:], 1e-10)\n",
    "    return p\n",
    "    \n",
    "fig = figure(figsize=(10,5))\n",
    "ax1 = subplot(1,2,1)\n",
    "p = p_haz_curve(xmean, ymean)\n",
    "line = semilogy(zeta, p, 'b')\n",
    "ylim(1e-5,1)\n",
    "xlabel('zeta in meters')\n",
    "ylabel('annual probability')\n",
    "title('Hazard Curve')\n",
    "\n",
    "# Also plot the CC image with a red dot showing the location:\n",
    "ax2 = subplot(1,2,2)\n",
    "imshow(CCmap,extent=extent)\n",
    "CClatitude = 41.75  # to rescale longitude\n",
    "ax2.set_aspect(1. / cos(pi*CClatitude/180.)) \n",
    "ax2.ticklabel_format(format='plain',useOffset=False)\n",
    "xticks(rotation=20)\n",
    "point = ax2.plot([xmean], [ymean], 'ro')\n",
    "xlim(xmin,xmax)\n",
    "ylim(ymin,ymax)\n",
    "title(\"Click on a point below\")\n",
    "      \n",
    "def onclick(event):\n",
    "    point[0].set_data([[event.xdata],[event.ydata]])\n",
    "    line[0].set_data([zeta, p_haz_curve(event.xdata, event.ydata)])\n",
    "    ax1.set_title(\"Hazard curve at \\nx = %6.3f, y = %6.3f\" % (event.xdata, event.ydata))\n",
    "    draw()\n",
    "    \n",
    "\n",
    "cid = fig.canvas.mpl_connect('button_press_event', onclick)"
   ]
  },
  {
   "cell_type": "markdown",
   "metadata": {},
   "source": [
    "### Interactive viewer to move the point around:\n",
    "\n",
    "The `interact_manual` command used below is used in the same way as `interact` but does not create or refresh the plot until the `Run plot_hcurve` button is pressed.  This may be desirable if refreshing happens too slowly as the slider is dragged with `interact`.  (Try either in the cell below to compare the behavior.)"
   ]
  },
  {
   "cell_type": "code",
   "execution_count": null,
   "metadata": {},
   "outputs": [],
   "source": [
    "interact_manual(plot_hcurve, longitude=(xmin,xmax,.001),latitude=(ymin,ymax,0.001));"
   ]
  },
  {
   "cell_type": "code",
   "execution_count": null,
   "metadata": {
    "collapsed": false
   },
   "outputs": [],
   "source": []
  }
 ],
 "metadata": {
  "kernelspec": {
   "display_name": "Python 2",
   "language": "python",
   "name": "python2"
  },
  "language_info": {
   "codemirror_mode": {
    "name": "ipython",
    "version": 3
   },
   "file_extension": ".py",
   "mimetype": "text/x-python",
   "name": "python",
   "nbconvert_exporter": "python",
   "pygments_lexer": "ipython3",
   "version": "3.5.2"
  }
 },
 "nbformat": 4,
 "nbformat_minor": 1
}
