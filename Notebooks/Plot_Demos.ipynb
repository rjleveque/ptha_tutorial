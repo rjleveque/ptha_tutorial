{
 "cells": [
  {
   "cell_type": "markdown",
   "metadata": {},
   "source": [
    "# Plot Demos\n",
    "\n",
    "This notebook demonstrates how to read in data files and make various plots."
   ]
  },
  {
   "cell_type": "code",
   "execution_count": null,
   "metadata": {},
   "outputs": [],
   "source": [
    "%pylab inline"
   ]
  },
  {
   "cell_type": "code",
   "execution_count": null,
   "metadata": {},
   "outputs": [],
   "source": [
    "import sys, os\n",
    "from __future__ import print_function\n",
    "from ptha_paths import data_dir, events_dir"
   ]
  },
  {
   "cell_type": "markdown",
   "metadata": {},
   "source": [
    "### Function to clean up axes:"
   ]
  },
  {
   "cell_type": "code",
   "execution_count": null,
   "metadata": {
    "collapsed": false
   },
   "outputs": [],
   "source": [
    "def fix_axes(ax=None):\n",
    "    CClatitude = 41.75  # to rescale longitude\n",
    "    if ax is None:\n",
    "        ax = gca()   # get current axes\n",
    "    ax.set_aspect(1. / cos(pi*CClatitude/180.)) \n",
    "    ax.ticklabel_format(format='plain',useOffset=False)"
   ]
  },
  {
   "cell_type": "markdown",
   "metadata": {},
   "source": [
    "### Read in image and define function to plot it as background"
   ]
  },
  {
   "cell_type": "code",
   "execution_count": null,
   "metadata": {},
   "outputs": [],
   "source": [
    "CCmap = imread('%s/MapsTopo/CCimage.png' % data_dir)\n",
    "extent = (235.79781, 235.82087, 41.739671,41.762726)   #small region\n",
    "\n",
    "def plot_CCmap():\n",
    "    fig = figure(figsize=(6,6))\n",
    "    ax = axes()\n",
    "    imshow(CCmap,extent=extent)\n",
    "    fix_axes(ax)\n",
    "    return fig\n",
    "\n",
    "fig = plot_CCmap()"
   ]
  },
  {
   "cell_type": "markdown",
   "metadata": {},
   "source": [
    "### Read in topography"
   ]
  },
  {
   "cell_type": "code",
   "execution_count": null,
   "metadata": {},
   "outputs": [],
   "source": [
    "fixed_grid_file = os.path.join(data_dir, 'MapsTopo', 'fixedgrid_xyB_small.npy')\n",
    "d=load(fixed_grid_file)\n",
    "x=d[:,0]\n",
    "y=d[:,1]\n",
    "B=d[:,2]\n",
    "topo = reshape(B, (250,250), order='F')\n",
    "X = reshape(x, (250,250), order='F')\n",
    "Y = reshape(y, (250,250), order='F')\n",
    "print(\"Max topography: %g m above MHW\" % topo.max())\n",
    "print(\"Min topography: %g m \" % topo.min())"
   ]
  },
  {
   "cell_type": "markdown",
   "metadata": {},
   "source": [
    "## Plot contour lines of topography"
   ]
  },
  {
   "cell_type": "code",
   "execution_count": null,
   "metadata": {},
   "outputs": [],
   "source": [
    "fig = figure(figsize=(6,6))\n",
    "\n",
    "clines_land = arange(2,16,2)  \n",
    "print(\"contour levels on land (green):\", clines_land)\n",
    "contour(X,Y,topo,clines_land,colors='g')\n",
    "\n",
    "clines_water = arange(-12,0,2) \n",
    "print(\"contour levels in water (blue):\", clines_water)\n",
    "# specify solid lines '-' or negative topo will be dashed:\n",
    "contour(X,Y,topo,clines_water,colors='b',linestyles='-')  \n",
    "\n",
    "# shoreline (topo = 0 is MHW)\n",
    "contour(X,Y,topo,[0],colors='r')\n",
    "\n",
    "fix_axes()"
   ]
  },
  {
   "cell_type": "markdown",
   "metadata": {},
   "source": [
    "## Plot contours on top of image"
   ]
  },
  {
   "cell_type": "code",
   "execution_count": null,
   "metadata": {},
   "outputs": [],
   "source": [
    "plot_CCmap()\n",
    "clines = linspace(0,20,11)\n",
    "print(\"Contour levels:\", clines)\n",
    "contour(X,Y,topo,clines,colors='m')"
   ]
  },
  {
   "cell_type": "markdown",
   "metadata": {},
   "source": [
    "## Read in zeta for one event and plot on image"
   ]
  },
  {
   "cell_type": "code",
   "execution_count": null,
   "metadata": {
    "collapsed": false
   },
   "outputs": [],
   "source": [
    "events_dir = os.path.join(data_dir, 'Events')"
   ]
  },
  {
   "cell_type": "code",
   "execution_count": null,
   "metadata": {},
   "outputs": [],
   "source": [
    "event = 'AASZa'\n",
    "event_dir = os.path.join(events_dir, event)\n",
    "hmax_file = os.path.join(event_dir, 'h_eta_small.npy')\n",
    "hmax = load(hmax_file)\n",
    "Hmax = hmax.reshape((250,250),order='F')\n",
    "\n",
    "plot_CCmap()\n",
    "clines = [0.01, 0.5, 1., 1.5, 2., 2.5, 3]\n",
    "contourf(X,Y,Hmax,clines,alpha = 0.6)\n",
    "colorbar()"
   ]
  },
  {
   "cell_type": "code",
   "execution_count": null,
   "metadata": {
    "collapsed": false
   },
   "outputs": [],
   "source": []
  }
 ],
 "metadata": {
  "kernelspec": {
   "display_name": "Python 2",
   "language": "python",
   "name": "python2"
  },
  "language_info": {
   "codemirror_mode": {
    "name": "ipython",
    "version": 3
   },
   "file_extension": ".py",
   "mimetype": "text/x-python",
   "name": "python",
   "nbconvert_exporter": "python",
   "pygments_lexer": "ipython3",
   "version": "3.5.2"
  }
 },
 "nbformat": 4,
 "nbformat_minor": 1
}
