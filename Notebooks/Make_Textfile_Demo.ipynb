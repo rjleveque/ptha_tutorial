{
 "cells": [
  {
   "cell_type": "markdown",
   "metadata": {},
   "source": [
    "# Make Textfile Demo\n",
    "\n",
    "Demonstrates how to read in the topography or an event and write it out to a text file, as might be needed to read it into ArcGIS, for example."
   ]
  },
  {
   "cell_type": "code",
   "execution_count": null,
   "metadata": {},
   "outputs": [],
   "source": [
    "%pylab inline"
   ]
  },
  {
   "cell_type": "code",
   "execution_count": null,
   "metadata": {},
   "outputs": [],
   "source": [
    "from __future__ import print_function\n",
    "import sys, os\n",
    "from ptha_paths import data_dir, events_dir"
   ]
  },
  {
   "cell_type": "markdown",
   "metadata": {},
   "source": [
    "### Read in topography data"
   ]
  },
  {
   "cell_type": "code",
   "execution_count": null,
   "metadata": {},
   "outputs": [],
   "source": [
    "fixed_grid_file = os.path.join(data_dir, 'MapsTopo', 'fixedgrid_xyB_small.npy')\n",
    "d=load(fixed_grid_file)\n",
    "x=d[:,0]\n",
    "y=d[:,1]\n",
    "B=d[:,2]\n",
    "\n",
    "print(\"x,y,B are 1-dimensional arrays of length %s\" % len(x))\n",
    "\n",
    "# to reshape them as 2-dimensional arrays:\n",
    "\n",
    "topo = reshape(B, (250,250), order='F')\n",
    "X = reshape(x, (250,250), order='F')\n",
    "Y = reshape(y, (250,250), order='F')\n",
    "\n",
    "print(\"X,Y,topo are 2-dimensional arrays with shape \", X.shape)"
   ]
  },
  {
   "cell_type": "markdown",
   "metadata": {},
   "source": [
    "## Write out to text file\n",
    "\n",
    "The file will have 3 columns containing `x, y, B` at each of the $250^2 = 62500$ grid points."
   ]
  },
  {
   "cell_type": "code",
   "execution_count": null,
   "metadata": {},
   "outputs": [],
   "source": [
    "fname = 'xyB.txt'\n",
    "f = open(fname,'w')\n",
    "for npts in range(len(B)):\n",
    "    f.write('%24.10f %24.10f %24.10f\\n' % (x[npts],y[npts],B[npts]))\n",
    "f.close()\n",
    "print(\"Created file \", os.path.abspath(fname))"
   ]
  },
  {
   "cell_type": "markdown",
   "metadata": {},
   "source": [
    "#### Another way to do the same thing:"
   ]
  },
  {
   "cell_type": "code",
   "execution_count": null,
   "metadata": {},
   "outputs": [],
   "source": [
    "fname = 'xyB.txt'\n",
    "data_array = vstack((x, y, B)).T\n",
    "savetxt(fname, data_array, fmt='%24.10f')\n",
    "print(\"Created file \", os.path.abspath(fname))"
   ]
  },
  {
   "cell_type": "markdown",
   "metadata": {},
   "source": [
    "## Read in zeta for a single event:"
   ]
  },
  {
   "cell_type": "code",
   "execution_count": null,
   "metadata": {
    "collapsed": false
   },
   "outputs": [],
   "source": [
    "event = 'AASZb'\n",
    "event_dir = os.path.join(events_dir, event)\n",
    "zeta_file = os.path.join(event_dir, 'h_eta_small.npy')\n",
    "zeta = load(zeta_file)"
   ]
  },
  {
   "cell_type": "markdown",
   "metadata": {},
   "source": [
    "### Write out to text file\n",
    "\n",
    "Either of the approaches above could be used, e.g."
   ]
  },
  {
   "cell_type": "code",
   "execution_count": null,
   "metadata": {},
   "outputs": [],
   "source": [
    "fname = '%s.txt' % event\n",
    "data_array = vstack((x, y, zeta)).T\n",
    "savetxt(fname, data_array, fmt='%24.10f')\n",
    "print(\"Created file \", os.path.abspath(fname))"
   ]
  },
  {
   "cell_type": "code",
   "execution_count": null,
   "metadata": {
    "collapsed": false
   },
   "outputs": [],
   "source": []
  }
 ],
 "metadata": {
  "kernelspec": {
   "display_name": "Python 2",
   "language": "python",
   "name": "python2"
  },
  "language_info": {
   "codemirror_mode": {
    "name": "ipython",
    "version": 3
   },
   "file_extension": ".py",
   "mimetype": "text/x-python",
   "name": "python",
   "nbconvert_exporter": "python",
   "pygments_lexer": "ipython3",
   "version": "3.5.2"
  }
 },
 "nbformat": 4,
 "nbformat_minor": 1
}
