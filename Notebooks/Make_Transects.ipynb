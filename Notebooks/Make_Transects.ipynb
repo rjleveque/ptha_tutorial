{
 "cells": [
  {
   "cell_type": "markdown",
   "metadata": {},
   "source": [
    "# Make Transects\n",
    "\n",
    "This notebook illustrates how to transects of event results or hazard maps.\n",
    "\n",
    "\n",
    "### First set up some things needed in notebook...."
   ]
  },
  {
   "cell_type": "code",
   "execution_count": null,
   "metadata": {},
   "outputs": [],
   "source": [
    "%pylab inline"
   ]
  },
  {
   "cell_type": "code",
   "execution_count": null,
   "metadata": {},
   "outputs": [],
   "source": [
    "from __future__ import print_function\n",
    "import sys, os\n",
    "from ptha_paths import data_dir, events_dir"
   ]
  },
  {
   "cell_type": "markdown",
   "metadata": {},
   "source": [
    "### Read in the topography data and define a function to make a contour plot:"
   ]
  },
  {
   "cell_type": "code",
   "execution_count": null,
   "metadata": {},
   "outputs": [],
   "source": [
    "# Read in topography data:\n",
    "\n",
    "fixed_grid_file = os.path.join(data_dir, 'MapsTopo', 'fixedgrid_xyB_small.npy')\n",
    "d=load(fixed_grid_file)\n",
    "x=d[:,0]\n",
    "y=d[:,1]\n",
    "B=d[:,2]\n",
    "topo = reshape(B, (250,250), order='F')\n",
    "X = reshape(x, (250,250), order='F')\n",
    "Y = reshape(y, (250,250), order='F')\n",
    "\n",
    "def plot_topo():\n",
    "    fig = figure(figsize=(6,6))\n",
    "    ax = axes()\n",
    "    topo_clines = arange(0,20,2)\n",
    "    contour(X,Y,topo,topo_clines,colors='k')\n",
    "    CClatitude = 41.75  # to rescale longitude\n",
    "    ax.set_aspect(1. / cos(pi*CClatitude/180.)) \n",
    "    ax.ticklabel_format(format='plain',useOffset=False)\n"
   ]
  },
  {
   "cell_type": "markdown",
   "metadata": {},
   "source": [
    "### Read in image of Crescent City as background for plots"
   ]
  },
  {
   "cell_type": "code",
   "execution_count": null,
   "metadata": {
    "collapsed": false
   },
   "outputs": [],
   "source": [
    "CCmap = imread('%s/MapsTopo/CCimage.png' % data_dir)\n",
    "extent = (235.79781, 235.82087, 41.739671,41.762726)   #small region\n",
    "\n",
    "def plot_CCmap():\n",
    "    fig = figure(figsize=(6,6))\n",
    "    ax = axes()\n",
    "    imshow(CCmap,extent=extent)\n",
    "    CClatitude = 41.75  # to rescale longitude\n",
    "    ax.set_aspect(1. / cos(pi*CClatitude/180.)) \n",
    "    ax.ticklabel_format(format='plain',useOffset=False)\n",
    "    axis(extent)\n"
   ]
  },
  {
   "cell_type": "markdown",
   "metadata": {},
   "source": [
    "## Define `plot_transect` function\n",
    "\n",
    "We first define a function `topo_func` that allows us to evaluate the topography at any point `(x,y)`.\n",
    "\n",
    "The function `plot_transect` is then defined to take two points `(x1,y1)` and `(x2,y2)` and interpolate the topography onto a set of 1000 equally spaced points along the transect (straight line connecting the points).  The function also takes another argument, a `z_func` function that can also be evaluated at any point and is assumed to return a value of $\\zeta$ at this point.  This might be defined to be the `zeta` for a particular single event, or it might be the `zeta` coming from a probabilistic analysis at some particular probability `p`.  \n"
   ]
  },
  {
   "cell_type": "code",
   "execution_count": null,
   "metadata": {},
   "outputs": [],
   "source": [
    "from scipy.interpolate import RegularGridInterpolator\n",
    "topo_func = RegularGridInterpolator((X[:,0], Y[0,:]), topo)\n",
    "\n",
    "def plot_transect(x1,y1, x2,y2, z_func):\n",
    "    \n",
    "    # points on transect:\n",
    "    xi = linspace(x1, x2, 1000)\n",
    "    yi = linspace(y1, y2, 1000)\n",
    "    \n",
    "    # plot the transect on top of topography:\n",
    "    fig = plot_topo()\n",
    "    plot([x1,x2], [y1,y2], 'r-', linewidth=3)\n",
    "    title('Transect')\n",
    "\n",
    "    # evaulate topo and zeta on transect:\n",
    "    Bi = topo_func(array(list(zip(xi,yi))))\n",
    "    zi = z_func(array(list(zip(xi,yi))))\n",
    "    \n",
    "    # define eta as zeta offshore or zeta + topo onshore:\n",
    "    eta = where(Bi<0, zi, zi+Bi)\n",
    "    \n",
    "    # plot cross sections on topo\n",
    "    # plot vs. longitude or latitude depending on orientation:\n",
    "    \n",
    "    if (abs(x2-x1) > 0.5*abs(y2-y1)):\n",
    "        ti = xi\n",
    "        xtext = 'longitude'\n",
    "    else:\n",
    "        ti = yi\n",
    "        xtext = 'latitude'\n",
    "        \n",
    "    Bi0 = where(Bi<0, 0., Bi)\n",
    "    \n",
    "    figure(figsize=(15,4))\n",
    "    fill_between(ti, Bi0, eta, color='b')\n",
    "    plot(ti, Bi, 'g')\n",
    "    \n",
    "    xlabel(xtext)\n",
    "    ylabel('meters')\n",
    "    plt.title('Elevation vs. %s' % xtext)\n",
    "    \n",
    "    # choose limits of vertical axis to give nice plots:\n",
    "    eta_wet_max = where(zi>0, zi+Bi, 0).max()\n",
    "    ylim(-2, max(6,eta_wet_max))\n",
    "    \n",
    "    ticklabel_format(format='plain',useOffset=False)\n",
    "    plt.xticks(rotation=20)"
   ]
  },
  {
   "cell_type": "markdown",
   "metadata": {},
   "source": [
    "### Illustrate use of this function for a single event\n",
    "\n",
    "We can read in the `zeta` file for a single event and plot it along any transect as illustrated below.\n",
    "\n",
    "First we read in this event and compute the interpolating function, here called `zeta_event_func`."
   ]
  },
  {
   "cell_type": "code",
   "execution_count": null,
   "metadata": {},
   "outputs": [],
   "source": [
    "event = 'AASZb'\n",
    "event_dir = os.path.join(events_dir, event)\n",
    "hmax_file = os.path.join(event_dir, 'h_eta_small.npy')\n",
    "hmax = load(hmax_file)\n",
    "Hmax = hmax.reshape((250,250),order='F')\n",
    "zeta_event_func = RegularGridInterpolator((X[:,0], Y[0,:]), Hmax)"
   ]
  },
  {
   "cell_type": "markdown",
   "metadata": {},
   "source": [
    "Next set the transect end points and plot using the `plot_transect` function defined above."
   ]
  },
  {
   "cell_type": "code",
   "execution_count": null,
   "metadata": {},
   "outputs": [],
   "source": [
    "zeta_event_func"
   ]
  },
  {
   "cell_type": "code",
   "execution_count": null,
   "metadata": {},
   "outputs": [],
   "source": [
    "x1 = 235.805;  y1 = 41.745\n",
    "x2 = 235.800;  y2 = 41.762\n",
    "\n",
    "print(\"Event: %s\" % event)\n",
    "plot_transect(x1,y1, x2,y2, zeta_event_func)"
   ]
  },
  {
   "cell_type": "markdown",
   "metadata": {},
   "source": [
    "Try changing the transect and re-executing the cell above.  For example, you might try:\n",
    "```\n",
    "x1 = 235.812;  y1 = 41.741\n",
    "x2 = 235.820;  y2 = 41.762\n",
    "```"
   ]
  },
  {
   "cell_type": "markdown",
   "metadata": {},
   "source": [
    "Next try changing the event, e.g. set\n",
    "```\n",
    "event = 'CSZb'\n",
    "```\n",
    "two cells above (to recompute `zeta_event_func`), and then re-execute that cell and the one that plots the transect."
   ]
  },
  {
   "cell_type": "markdown",
   "metadata": {},
   "source": [
    "# Transects of probability of exceedance\n",
    "\n",
    "The next several cells are duplicated from `Make_Hazard_Curves_and_Maps.ipynb` to calculate an array `exceed_prob` and a function `compute_zeta(p)` that returns `zeta` at all points on the grid for a given probability `p`. "
   ]
  },
  {
   "cell_type": "markdown",
   "metadata": {},
   "source": [
    "### Set the exceedance values\n",
    "\n",
    "This should be a list or array of values $\\zeta$ (`zeta`) representing depth of flooding on shore, or elevation above sea level offshore (in meters).  The hazard curves will be computed by determining the annual probability that the maximum $\\zeta$ observed at each spatial point is above $\\zeta_k$, for each value $\\zeta_k$ in this list."
   ]
  },
  {
   "cell_type": "code",
   "execution_count": null,
   "metadata": {},
   "outputs": [],
   "source": [
    "zeta = hstack((arange(0,2.,.1), arange(2.0,12.5,.5)))\n",
    "nzeta = len(zeta)\n",
    "print('%i exceedance values, \\nzeta =  %s' % (nzeta,zeta))"
   ]
  },
  {
   "cell_type": "markdown",
   "metadata": {},
   "source": [
    "### Set the desired annual probability for each event\n",
    "\n",
    "Note that we are only using 14 events for this workshop.  The probabilities have been adjusted accordingly.\n",
    "\n",
    "`event_prob` is a Python dictionary. It is inialized to an empty dictionary and then we set `event_prob[key] = value` where the keys are the names of the hypothetical events and the associated value is the annual probability."
   ]
  },
  {
   "cell_type": "code",
   "execution_count": null,
   "metadata": {},
   "outputs": [],
   "source": [
    "all_events = ['AASZa', 'AASZb', 'AASZc', 'AASZd', 'CSZa', 'CSZb', 'CSZc', 'CSZd', 'CSZe', \\\n",
    "              'CSZf', 'KmSZa', 'KrSZa', 'SChSZa', 'TOHa']\n",
    "\n",
    "event_prob = {}\n",
    "event_prob['AASZa'] = 1./394.\n",
    "event_prob['AASZb'] = 1./750.\n",
    "event_prob['AASZc'] = 1./563.\n",
    "event_prob['AASZd'] = 1./324.\n",
    "event_prob['CSZa'] = 1./250. * .0125\n",
    "event_prob['CSZb'] = 1./250. * .0125\n",
    "event_prob['CSZc'] = 1./250. * .0750\n",
    "event_prob['CSZd'] = 1./250. * .5000\n",
    "event_prob['CSZe'] = 1./250. * .1750\n",
    "event_prob['CSZf'] = 1./250. * .2250\n",
    "event_prob['KmSZa'] = 1./50.\n",
    "event_prob['KrSZa'] = 1./167.\n",
    "event_prob['SChSZa'] = 1./300.\n",
    "event_prob['TOHa'] = 1./103.\n",
    "\n",
    "print(\"Annual probability of each event is set to:\")\n",
    "print(event_prob)"
   ]
  },
  {
   "cell_type": "markdown",
   "metadata": {},
   "source": [
    "### Define a function to combine two events"
   ]
  },
  {
   "cell_type": "code",
   "execution_count": null,
   "metadata": {},
   "outputs": [],
   "source": [
    "def combine_prob(p1,p2):\n",
    "    \"\"\"Returns the probability that event 1 or 2 happens\"\"\"\n",
    "    return 1. - (1-p1)*(1-p2)"
   ]
  },
  {
   "cell_type": "markdown",
   "metadata": {},
   "source": [
    "### Specify the set of events to include in computing hazard curves:"
   ]
  },
  {
   "cell_type": "code",
   "execution_count": null,
   "metadata": {},
   "outputs": [],
   "source": [
    "events = all_events\n",
    "\n",
    "# Instead, to use a subset of the events, specify a list such as:\n",
    "#events = ['AASZa', 'AASZb', 'AASZc']"
   ]
  },
  {
   "cell_type": "markdown",
   "metadata": {},
   "source": [
    "### Compute the combined probability of exceeding each exceedance value:\n",
    "\n",
    "`exceed_prob` is computed as an array of shape "
   ]
  },
  {
   "cell_type": "code",
   "execution_count": null,
   "metadata": {},
   "outputs": [],
   "source": [
    "nx, ny = X.shape  # note that X is a 2d array of longitude values at each point\n",
    "exceed_prob = zeros((nx,ny,nzeta))  # initialize to zero\n",
    "\n",
    "# loop over all events and update exceed_prob at each grid point by combining\n",
    "# current value with the probability Pk of this event:\n",
    "\n",
    "for event in events:\n",
    "    event_dir = os.path.join(events_dir, event)\n",
    "    hmax_file = os.path.join(event_dir, 'h_eta_small.npy')\n",
    "    hmax = load(hmax_file)\n",
    "    Hmax = hmax.reshape((nx,ny),order='F')\n",
    "    for k in range(nzeta):\n",
    "        Pk = exceed_prob[:,:,k]  # probabilities at all points for one exceedance value zeta_k\n",
    "        exceed_prob[:,:,k] = where(Hmax > zeta[k], combine_prob(event_prob[event],Pk), Pk)\n",
    "        \n",
    "print(\"Computed exceedance probabilities.  \\nMaximum over all grid points is %g\" % exceed_prob.max())"
   ]
  },
  {
   "cell_type": "markdown",
   "metadata": {},
   "source": [
    "### Function to compute `zeta` for any `p`:\n",
    "\n",
    "**Note:** The functions `compute_zeta` defined in the cell below uses the exceedance probabilities `exceed_prob` computed above.  If you recompute these (e.g. by changing the set of events to include, or the probabilities of individual events), you must re-execute this cell to redefine the function before re-making the plots in later cells!"
   ]
  },
  {
   "cell_type": "code",
   "execution_count": null,
   "metadata": {},
   "outputs": [],
   "source": [
    "def compute_zeta(p):\n",
    "\n",
    "    # create boolean array K with K[i,j,k] == True only where exceed_prob[i,j,k] > p:\n",
    "    K = exceed_prob > p\n",
    "\n",
    "    K[:,:,0] = True\n",
    "    zeta_p = zeros(X.shape)\n",
    "    for i in range(nx):\n",
    "        for j in range(ny):\n",
    "            zeta_p[i,j] = zeta[K[i,j,:]][-1]\n",
    "    return zeta_p\n"
   ]
  },
  {
   "cell_type": "markdown",
   "metadata": {},
   "source": [
    "# Transects\n",
    "\n",
    "Now we can plot transects for a given probability $p$, e.g. $p=0.002$ for the \"500-year flood\".  Experiment with changing `p` or the transect...\n"
   ]
  },
  {
   "cell_type": "code",
   "execution_count": null,
   "metadata": {},
   "outputs": [],
   "source": [
    "p = 0.002\n",
    "zeta_p = compute_zeta(p)\n",
    "zeta_p_func = RegularGridInterpolator((X[:,0], Y[0,:]), zeta_p)"
   ]
  },
  {
   "cell_type": "code",
   "execution_count": null,
   "metadata": {},
   "outputs": [],
   "source": [
    "# Set endpoints of transect:\n",
    "x1 = 235.805;  y1 = 41.745\n",
    "x2 = 235.800;  y2 = 41.762\n",
    "\n",
    "print(\"Transect of zeta for given annual probability p = %g\" % p)\n",
    "plot_transect(x1,y1, x2,y2, zeta_p_func)"
   ]
  },
  {
   "cell_type": "markdown",
   "metadata": {
    "collapsed": false
   },
   "source": [
    "The notebook [Make_Transects_interactive.ipynb](Make_Transects_interactive.ipynb) shows how to \n",
    "interact with a map and create a transect on the fly.\n"
   ]
  },
  {
   "cell_type": "code",
   "execution_count": null,
   "metadata": {
    "collapsed": false
   },
   "outputs": [],
   "source": []
  }
 ],
 "metadata": {
  "kernelspec": {
   "display_name": "Python 2",
   "language": "python",
   "name": "python2"
  },
  "language_info": {
   "codemirror_mode": {
    "name": "ipython",
    "version": 3
   },
   "file_extension": ".py",
   "mimetype": "text/x-python",
   "name": "python",
   "nbconvert_exporter": "python",
   "pygments_lexer": "ipython3",
   "version": "3.5.2"
  }
 },
 "nbformat": 4,
 "nbformat_minor": 1
}
