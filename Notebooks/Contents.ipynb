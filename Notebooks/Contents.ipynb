{
 "cells": [
  {
   "cell_type": "markdown",
   "metadata": {},
   "source": [
    "# Start here\n",
    "\n",
    "First check that the path is set properly to find other files needed by these notebooks.  Execute the next cell to check..."
   ]
  },
  {
   "cell_type": "code",
   "execution_count": null,
   "metadata": {},
   "outputs": [],
   "source": [
    "import os\n",
    "from __future__ import print_function\n",
    "import ptha_paths\n",
    "\n",
    "try:\n",
    "    os.chdir(ptha_paths.ptha_dir)\n",
    "    print(\"\\nAppears to be ok\")\n",
    "except:\n",
    "    print(\"\\nProblem moving to directory %s\" % ptha_paths.ptha_dir)  \n",
    "    print(\"Check the path set in the file ptha_paths.py\")"
   ]
  },
  {
   "cell_type": "markdown",
   "metadata": {},
   "source": [
    "# Recommended order to view the notebooks:\n",
    "\n",
    "These notebooks explain the main ideas:\n",
    "\n",
    "- [Hazard_Curves.ipynb](Hazard_Curves.ipynb)\n",
    "- [Hazard_Maps.ipynb](Hazard_Maps.ipynb)\n",
    "\n",
    "These notebooks explain how to plot things:\n",
    "\n",
    "- [Make_Hazard_Curves_and_Maps.ipynb](Make_Hazard_Curves_and_Maps.ipynb)\n",
    "- [Make_Transects.ipynb](Make_Transects.ipynb)\n",
    "- [Plot_Demos.ipynb](Plot_Demos.ipynb)\n",
    "- [Make_Textfile_Demo.ipynb](Make_Textfile_Demo.ipynb)\n",
    "\n",
    "Experimental interactive notebooks:\n",
    "\n",
    "- [Make_Hazard_Curves_interactive.ipynb](Make_Hazard_Curves_interactive.ipynb)\n",
    "- [Make_Transects_interactive.ipynb](Make_Transects_interactive.ipynb)\n"
   ]
  }
 ],
 "metadata": {
  "kernelspec": {
   "display_name": "Python 2",
   "language": "python",
   "name": "python2"
  },
  "language_info": {
   "codemirror_mode": {
    "name": "ipython",
    "version": 3
   },
   "file_extension": ".py",
   "mimetype": "text/x-python",
   "name": "python",
   "nbconvert_exporter": "python",
   "pygments_lexer": "ipython3",
   "version": "3.5.2"
  }
 },
 "nbformat": 4,
 "nbformat_minor": 1
}
