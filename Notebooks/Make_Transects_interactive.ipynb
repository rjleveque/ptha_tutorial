{
 "cells": [
  {
   "cell_type": "markdown",
   "metadata": {},
   "source": [
    "# Make Transects (interactive)\n",
    "\n",
    "This notebook illustrates how to make transects of event results that can be interactively updated by selecting the transect.  \n",
    "\n",
    "\n",
    "### First set up some things needed in notebook...."
   ]
  },
  {
   "cell_type": "code",
   "execution_count": 1,
   "metadata": {
    "collapsed": false
   },
   "outputs": [],
   "source": [
    "%pylab inline\n",
    "%matplotlib notebook"
   ]
  },
  {
   "cell_type": "code",
   "execution_count": 2,
   "metadata": {
    "collapsed": false
   },
   "outputs": [],
   "source": [
    "import sys, os\n",
    "from ipywidgets import interact\n",
    "from IPython.display import Image, display\n",
    "\n",
    "from ptha_paths import data_dir, events_dir"
   ]
  },
  {
   "cell_type": "markdown",
   "metadata": {},
   "source": [
    "### Read in the topography data and define a function to make a contour plot:"
   ]
  },
  {
   "cell_type": "code",
   "execution_count": 3,
   "metadata": {
    "collapsed": false
   },
   "outputs": [],
   "source": [
    "# Read in topography data:\n",
    "\n",
    "fixed_grid_file = os.path.join(data_dir, 'MapsTopo', 'fixedgrid_xyB_small.npy')\n",
    "d=load(fixed_grid_file)\n",
    "x=d[:,0]\n",
    "y=d[:,1]\n",
    "B=d[:,2]\n",
    "topo = reshape(B, (250,250), order='F')\n",
    "X = reshape(x, (250,250), order='F')\n",
    "Y = reshape(y, (250,250), order='F')\n",
    "\n",
    "def plot_topo():\n",
    "    fig = figure(figsize=(6,6))\n",
    "    ax = axes()\n",
    "    topo_clines = arange(0,20,2)\n",
    "    contour(X,Y,topo,topo_clines,colors='k')\n",
    "    CClatitude = 41.75  # to rescale longitude\n",
    "    ax.set_aspect(1. / cos(pi*CClatitude/180.)) \n",
    "    ax.ticklabel_format(format='plain',useOffset=False)\n",
    "    return fig"
   ]
  },
  {
   "cell_type": "markdown",
   "metadata": {},
   "source": [
    "## Define class to allow interactive plotting\n",
    "\n",
    "The class `DrawLine` allows the reader to select a transect and will then interpolate the solution from the specified event to this transect.\n",
    "\n",
    "We first define a function `topo_func` that allows us to evaluate the topography at any point `(x,y)`.\n",
    "\n",
    "The function `plot_transect` is then defined to take two points `(x1,y1)` and `(x2,y2)` and interpolate the topography onto a set of 1000 equally spaced points along the transect (straight line connecting the points).  The function also takes another argument, a `z_func` function that can also be evaluated at any point and is assumed to return a value of $\\zeta$ at this point.  This might be defined to be the `zeta` for a particular single event, or it might be the `zeta` coming from a probabilistic analysis at some particular probability `p`.  \n"
   ]
  },
  {
   "cell_type": "code",
   "execution_count": 4,
   "metadata": {
    "collapsed": true
   },
   "outputs": [],
   "source": [
    "from scipy.interpolate import RegularGridInterpolator\n",
    "topo_func = RegularGridInterpolator((X[:,0], Y[0,:]), topo)\n",
    "\n",
    "import numpy as np\n",
    "import matplotlib.pyplot as plt\n",
    "import matplotlib.gridspec as gridspec\n",
    "\n",
    "class DrawLine:\n",
    "    def __init__(self, line,zeta,topo):\n",
    "        self.line = line\n",
    "        self.figure = line[0].figure\n",
    "        self.xprev = 0\n",
    "        self.yprev = 0\n",
    "        self.xnew = 0\n",
    "        self.ynew = 0\n",
    "        self.press = None\n",
    "        self.zeta = zeta\n",
    "        self.topo = topo\n",
    "\n",
    "    def connect(self):\n",
    "        'connect to all the events we need'\n",
    "        self.cidpress = self.figure.canvas.mpl_connect(\n",
    "            'button_press_event', self.on_press)\n",
    "        self.cidrelease = self.figure.canvas.mpl_connect(\n",
    "            'button_release_event', self.on_release)\n",
    "\n",
    "    def on_press(self, event):\n",
    "        self.xprev = event.xdata\n",
    "        self.yprev = event.ydata\n",
    "        self.press = 1\n",
    "        ax1.plot(self.xprev,self.yprev,'ro')\n",
    "        self.figure.canvas.draw()\n",
    "        #self.line[0].set_data([[event.xdata],[event.ydata]])\n",
    "        #self.line[0].set_xdata = np.array([event.xdata, self.line[0].get_xdata()[1]])\n",
    "        #self.line[0].set_ydata = np.array([event.ydata, self.line[0].get_ydata()[1]])\n",
    "\n",
    "    def on_release(self, event):\n",
    "        self.press = None\n",
    "        self.xnew = event.xdata\n",
    "        self.ynew = event.ydata\n",
    "        #self.line[0].set_xdata = np.array([self.line[0].get_xdata()[0]], event.xdata)\n",
    "        #self.line[0].set_ydata = np.array([self.line[0].get_ydata()[0]], event.ydata)\n",
    "        ax1.cla()\n",
    "        \n",
    "        topo_clines = arange(0,20,2)\n",
    "        ax1.contour(X,Y,topo,topo_clines,colors='k')\n",
    "        CClatitude = 41.75  # to rescale longitude\n",
    "        ax1.set_aspect(1. / cos(pi*CClatitude/180.)) \n",
    "        ax1.ticklabel_format(format='plain',useOffset=False)\n",
    "    \n",
    "        ax1.plot(self.xprev,self.yprev,'ro')\n",
    "        ax1.plot([self.xprev,self.xnew],[self.yprev,self.ynew],'-r',lw=3)\n",
    "        #ax1.set_xlim(-5,5)\n",
    "        #ax1.set_ylim(-5,5)\n",
    "        \n",
    "        self.plot_transect()\n",
    "        self.figure.canvas.draw()\n",
    "\n",
    "    def disconnect(self):\n",
    "        'disconnect all the stored connection ids'\n",
    "        self.figure.canvas.mpl_disconnect(self.cidpress)\n",
    "        self.figure.canvas.mpl_disconnect(self.cidrelease)\n",
    "        \n",
    "    def plot_transect(self):\n",
    "        # points on transect:\n",
    "        xi = linspace(self.xprev, self.xnew, 1000)\n",
    "        yi = linspace(self.yprev, self.ynew, 1000)\n",
    "        \n",
    "        # evaulate topo and zeta on transect:\n",
    "        Bi = self.topo(zip(xi,yi))\n",
    "        zi = self.zeta(zip(xi,yi))\n",
    "        \n",
    "        ax2.set_title('asd')\n",
    "        \n",
    "        # define eta as zeta offshore or zeta + topo onshore:\n",
    "        eta = where(Bi<0, zi, zi+Bi)\n",
    "    \n",
    "        # Clear axis 2\n",
    "        ax2.cla()\n",
    "    \n",
    "        # plot vs. longitude or latitude depending on orientation:\n",
    "        if (abs(self.xnew-self.xprev) > 0.5*abs(self.ynew-self.yprev)):\n",
    "            ti = xi\n",
    "            ax2.set_xlim(min(self.xprev,self.xnew),max(self.xprev,self.xnew))\n",
    "            xtext = 'longitude'\n",
    "        else:\n",
    "            ti = yi\n",
    "            ax2.set_xlim(min(self.yprev,self.ynew),max(self.yprev,self.ynew))\n",
    "            xtext = 'latitude'\n",
    "            \n",
    "        Bi0 = where(Bi<0, 0., Bi) #where(Bi<0, -2., Bi) #where(Bi<0, 0., Bi)\n",
    "        \n",
    "        \n",
    "        ax2.fill_between(ti, Bi0, eta, color='b')\n",
    "        ax2.plot(ti, Bi, 'g', lw=3)\n",
    "        \n",
    "        ax2.set_xlabel(xtext)\n",
    "        ax2.set_ylabel('meters')\n",
    "        ax2.set_title('Elevation vs. %s' % xtext)\n",
    "    \n",
    "        # choose limits of vertical axis to give nice plots:\n",
    "        eta_wet_max = where(zi>0, zi+Bi, 0).max()\n",
    "        ax2.set_ylim(0, max(6,eta_wet_max))\n",
    "    \n",
    "        ax2.ticklabel_format(format='plain',useOffset=False)\n",
    "        ax1.set_title('(%8.4f,%8.4f) to (%8.4f,%8.4f)' % (self.xprev,self.yprev,self.xnew,self.ynew))"
   ]
  },
  {
   "cell_type": "markdown",
   "metadata": {},
   "source": [
    "## Select an event and execute to start the interactive plot..."
   ]
  },
  {
   "cell_type": "code",
   "execution_count": 6,
   "metadata": {
    "collapsed": false
   },
   "outputs": [],
   "source": [
    "event = 'AASZb'\n",
    "\n",
    "event_dir = os.path.join(events_dir, event)\n",
    "hmax_file = os.path.join(event_dir, 'h_eta_small.npy')\n",
    "hmax = load(hmax_file)\n",
    "Hmax = hmax.reshape((250,250),order='F')\n",
    "zeta_event_func = RegularGridInterpolator((X[:,0], Y[0,:]), Hmax)\n",
    "print(\"Event: %s\" % event)\n",
    "\n",
    "\n",
    "gs = gridspec.GridSpec(10, 3)\n",
    "fig = plt.figure(figsize=(12,10))\n",
    "ax1 = plt.subplot(gs[0:6,0:]) #fig.add_subplot(121)\n",
    "ax2 = plt.subplot(gs[7:,0:]) #fig.add_subplot(122)\n",
    "\n",
    "topo_clines = arange(0,20,2)\n",
    "ax1.contour(X,Y,topo,topo_clines,colors='k')\n",
    "CClatitude = 41.75  # to rescale longitude\n",
    "ax1.set_aspect(1. / cos(pi*CClatitude/180.)) \n",
    "ax1.ticklabel_format(format='plain',useOffset=False)\n",
    "extent = (235.79781, 235.82087, 41.739671,41.762726)   #small region\n",
    "ax1.axis(extent, aspect=0.1)\n",
    "ax1.set_xlabel(\"Longitude\")\n",
    "ax1.set_ylabel(\"Latitude\")\n",
    "ax1.set_title(\"Click a point, drag, and release\")\n",
    "\n",
    "#ax2.set_xlim(-5,5)\n",
    "#ax2.set_ylim(-2,2)\n",
    "\n",
    "points = ax1.plot([1],[10], '-k', lw=3)\n",
    "dr =  DrawLine(points,zeta_event_func,topo_func)\n",
    "dr.connect()"
   ]
  },
  {
   "cell_type": "markdown",
   "metadata": {
    "collapsed": true
   },
   "source": [
    "**Note:** To use this, click on a point in the map, drag the mouse, and then release.  The points and transect do not show up until you release.  It would be nice if they did."
   ]
  },
  {
   "cell_type": "code",
   "execution_count": null,
   "metadata": {
    "collapsed": true
   },
   "outputs": [],
   "source": []
  }
 ],
 "metadata": {
  "kernelspec": {
   "display_name": "Python 2",
   "language": "python",
   "name": "python2"
  },
  "language_info": {
   "codemirror_mode": {
    "name": "ipython",
    "version": 2
   },
   "file_extension": ".py",
   "mimetype": "text/x-python",
   "name": "python",
   "nbconvert_exporter": "python",
   "pygments_lexer": "ipython2",
   "version": "2.7.11"
  },
  "widgets": {
   "state": {},
   "version": "1.1.2"
  }
 },
 "nbformat": 4,
 "nbformat_minor": 0
}
