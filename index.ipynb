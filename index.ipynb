{
 "cells": [
  {
   "cell_type": "markdown",
   "metadata": {},
   "source": [
    "# PTHA Tutorial\n",
    "\n",
    "These notebooks were developed for a workshop on [Communicating Hazard and Risk through Maps and Data Visualization](http://escience.washington.edu/research-project/communicating-hazard-and-risk-through-maps-and-data-visualization/) for the UW [M9 Project](https://hazards.uw.edu/geology/m9/). \n",
    "\n",
    "They illustrate some basic ideas of probabilistic tsunami hazard assessment (PTHA) based on a reduced set of data from a recent [study of methodologies](http://faculty.washington.edu/rjl/pubs/CCptha2/index.html) that focused on Crescent City, CA as the target community.\n",
    "\n",
    "These notebooks and the data files they use can be found in the GitHub repository https://github.com/rjleveque/ptha_tutorial."
   ]
  },
  {
   "cell_type": "markdown",
   "metadata": {},
   "source": [
    "# Recommended order to view the notebooks:\n",
    "\n",
    "These notebooks explain the main ideas:\n",
    "\n",
    "- [Hazard_Curves.ipynb](Notebooks/Hazard_Curves.ipynb)\n",
    "- [Hazard_Maps.ipynb](Notebooks/Hazard_Maps.ipynb)\n",
    "\n",
    "These notebooks explain how to plot things:\n",
    "\n",
    "- [Make_Hazard_Curves_and_Maps.ipynb](Notebooks/Make_Hazard_Curves_and_Maps.ipynb)\n",
    "- [Make_Transects.ipynb](Notebooks/Make_Transects.ipynb)\n",
    "- [Plot_Demos.ipynb](Notebooks/Plot_Demos.ipynb)\n",
    "- [Make_Textfile_Demo.ipynb](Notebooks/Make_Textfile_Demo.ipynb)\n",
    "\n",
    "Experimental interactive notebooks:\n",
    "\n",
    "- [Make_Hazard_Curves_interactive.ipynb](Notebooks/Make_Hazard_Curves_interactive.ipynb)\n",
    "- [Make_Transects_interactive.ipynb](Notebooks/Make_Transects_interactive.ipynb)\n"
   ]
  },
  {
   "cell_type": "code",
   "execution_count": null,
   "metadata": {
    "collapsed": true
   },
   "outputs": [],
   "source": []
  }
 ],
 "metadata": {
  "kernelspec": {
   "display_name": "Python 2",
   "language": "python",
   "name": "python2"
  },
  "language_info": {
   "codemirror_mode": {
    "name": "ipython",
    "version": 2
   },
   "file_extension": ".py",
   "mimetype": "text/x-python",
   "name": "python",
   "nbconvert_exporter": "python",
   "pygments_lexer": "ipython2",
   "version": "2.7.11"
  }
 },
 "nbformat": 4,
 "nbformat_minor": 0
}
